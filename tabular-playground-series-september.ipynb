{
 "cells": [
  {
   "cell_type": "code",
   "execution_count": 1,
   "id": "029524c9",
   "metadata": {
    "_cell_guid": "b1076dfc-b9ad-4769-8c92-a6c4dae69d19",
    "_uuid": "8f2839f25d086af736a60e9eeb907d3b93b6e0e5",
    "execution": {
     "iopub.execute_input": "2022-09-30T18:13:59.504211Z",
     "iopub.status.busy": "2022-09-30T18:13:59.503326Z",
     "iopub.status.idle": "2022-09-30T18:13:59.518803Z",
     "shell.execute_reply": "2022-09-30T18:13:59.517607Z"
    },
    "papermill": {
     "duration": 0.02682,
     "end_time": "2022-09-30T18:13:59.521248",
     "exception": false,
     "start_time": "2022-09-30T18:13:59.494428",
     "status": "completed"
    },
    "tags": []
   },
   "outputs": [
    {
     "name": "stdout",
     "output_type": "stream",
     "text": [
      "/kaggle/input/tabular-playground-series-sep-2022/sample_submission.csv\n",
      "/kaggle/input/tabular-playground-series-sep-2022/train.csv\n",
      "/kaggle/input/tabular-playground-series-sep-2022/test.csv\n"
     ]
    }
   ],
   "source": [
    "# This Python 3 environment comes with many helpful analytics libraries installed\n",
    "# It is defined by the kaggle/python Docker image: https://github.com/kaggle/docker-python\n",
    "# For example, here's several helpful packages to load\n",
    "\n",
    "import numpy as np # linear algebra\n",
    "import pandas as pd # data processing, CSV file I/O (e.g. pd.read_csv)\n",
    "\n",
    "# Input data files are available in the read-only \"../input/\" directory\n",
    "# For example, running this (by clicking run or pressing Shift+Enter) will list all files under the input directory\n",
    "\n",
    "import os\n",
    "for dirname, _, filenames in os.walk('/kaggle/input'):\n",
    "    for filename in filenames:\n",
    "        print(os.path.join(dirname, filename))\n",
    "\n",
    "# You can write up to 20GB to the current directory (/kaggle/working/) that gets preserved as output when you create a version using \"Save & Run All\" \n",
    "# You can also write temporary files to /kaggle/temp/, but they won't be saved outside of the current session"
   ]
  },
  {
   "cell_type": "code",
   "execution_count": 2,
   "id": "6d99694b",
   "metadata": {
    "execution": {
     "iopub.execute_input": "2022-09-30T18:13:59.534580Z",
     "iopub.status.busy": "2022-09-30T18:13:59.533953Z",
     "iopub.status.idle": "2022-09-30T18:14:01.924835Z",
     "shell.execute_reply": "2022-09-30T18:14:01.923813Z"
    },
    "papermill": {
     "duration": 2.400512,
     "end_time": "2022-09-30T18:14:01.927563",
     "exception": false,
     "start_time": "2022-09-30T18:13:59.527051",
     "status": "completed"
    },
    "tags": []
   },
   "outputs": [
    {
     "data": {
      "text/html": [
       "<style type='text/css'>\n",
       ".datatable table.frame { margin-bottom: 0; }\n",
       ".datatable table.frame thead { border-bottom: none; }\n",
       ".datatable table.frame tr.coltypes td {  color: #FFFFFF;  line-height: 6px;  padding: 0 0.5em;}\n",
       ".datatable .bool    { background: #DDDD99; }\n",
       ".datatable .object  { background: #565656; }\n",
       ".datatable .int     { background: #5D9E5D; }\n",
       ".datatable .float   { background: #4040CC; }\n",
       ".datatable .str     { background: #CC4040; }\n",
       ".datatable .time    { background: #40CC40; }\n",
       ".datatable .row_index {  background: var(--jp-border-color3);  border-right: 1px solid var(--jp-border-color0);  color: var(--jp-ui-font-color3);  font-size: 9px;}\n",
       ".datatable .frame tbody td { text-align: left; }\n",
       ".datatable .frame tr.coltypes .row_index {  background: var(--jp-border-color0);}\n",
       ".datatable th:nth-child(2) { padding-left: 12px; }\n",
       ".datatable .hellipsis {  color: var(--jp-cell-editor-border-color);}\n",
       ".datatable .vellipsis {  background: var(--jp-layout-color0);  color: var(--jp-cell-editor-border-color);}\n",
       ".datatable .na {  color: var(--jp-cell-editor-border-color);  font-size: 80%;}\n",
       ".datatable .sp {  opacity: 0.25;}\n",
       ".datatable .footer { font-size: 9px; }\n",
       ".datatable .frame_dimensions {  background: var(--jp-border-color3);  border-top: 1px solid var(--jp-border-color0);  color: var(--jp-ui-font-color3);  display: inline-block;  opacity: 0.6;  padding: 1px 10px 1px 5px;}\n",
       "</style>\n"
      ],
      "text/plain": [
       "<IPython.core.display.HTML object>"
      ]
     },
     "metadata": {},
     "output_type": "display_data"
    }
   ],
   "source": [
    "import numpy as np\n",
    "import pandas as pd\n",
    "import matplotlib.pyplot as plt\n",
    "import seaborn as sns\n",
    "import lightgbm as lgbm\n",
    "from lightgbm import LGBMRegressor\n",
    "from catboost import CatBoostRegressor\n",
    "from sklearn.metrics import make_scorer\n",
    "from sklearn.linear_model import LinearRegression\n",
    "from sklearn.preprocessing import LabelEncoder\n",
    "from sklearn.pipeline import Pipeline\n",
    "from sklearn.preprocessing import StandardScaler\n",
    "from sklearn.model_selection import GridSearchCV , cross_val_score ,cross_validate\n"
   ]
  },
  {
   "cell_type": "code",
   "execution_count": 3,
   "id": "f97474c4",
   "metadata": {
    "execution": {
     "iopub.execute_input": "2022-09-30T18:14:01.941172Z",
     "iopub.status.busy": "2022-09-30T18:14:01.940764Z",
     "iopub.status.idle": "2022-09-30T18:14:02.134921Z",
     "shell.execute_reply": "2022-09-30T18:14:02.133736Z"
    },
    "papermill": {
     "duration": 0.204041,
     "end_time": "2022-09-30T18:14:02.137553",
     "exception": false,
     "start_time": "2022-09-30T18:14:01.933512",
     "status": "completed"
    },
    "tags": []
   },
   "outputs": [],
   "source": [
    "train_data = pd.read_csv('/kaggle/input/tabular-playground-series-sep-2022/train.csv')\n",
    "test_data = pd.read_csv('/kaggle/input/tabular-playground-series-sep-2022/test.csv')\n",
    "submission = pd.read_csv('/kaggle/input/tabular-playground-series-sep-2022/sample_submission.csv')\n"
   ]
  },
  {
   "cell_type": "code",
   "execution_count": 4,
   "id": "19425c1a",
   "metadata": {
    "execution": {
     "iopub.execute_input": "2022-09-30T18:14:02.150772Z",
     "iopub.status.busy": "2022-09-30T18:14:02.150413Z",
     "iopub.status.idle": "2022-09-30T18:14:02.156165Z",
     "shell.execute_reply": "2022-09-30T18:14:02.155078Z"
    },
    "papermill": {
     "duration": 0.015092,
     "end_time": "2022-09-30T18:14:02.158532",
     "exception": false,
     "start_time": "2022-09-30T18:14:02.143440",
     "status": "completed"
    },
    "tags": []
   },
   "outputs": [
    {
     "name": "stdout",
     "output_type": "stream",
     "text": [
      "Total rows:  70128\n",
      "Total columns:  6\n"
     ]
    }
   ],
   "source": [
    "train_data_row, train_data_col = train_data.shape\n",
    "print('Total rows: ', train_data_row)\n",
    "print('Total columns: ', train_data_col)"
   ]
  },
  {
   "cell_type": "code",
   "execution_count": 5,
   "id": "a4d7cfda",
   "metadata": {
    "execution": {
     "iopub.execute_input": "2022-09-30T18:14:02.171027Z",
     "iopub.status.busy": "2022-09-30T18:14:02.170667Z",
     "iopub.status.idle": "2022-09-30T18:14:02.188582Z",
     "shell.execute_reply": "2022-09-30T18:14:02.187461Z"
    },
    "papermill": {
     "duration": 0.026555,
     "end_time": "2022-09-30T18:14:02.190776",
     "exception": false,
     "start_time": "2022-09-30T18:14:02.164221",
     "status": "completed"
    },
    "tags": []
   },
   "outputs": [
    {
     "data": {
      "text/html": [
       "<div>\n",
       "<style scoped>\n",
       "    .dataframe tbody tr th:only-of-type {\n",
       "        vertical-align: middle;\n",
       "    }\n",
       "\n",
       "    .dataframe tbody tr th {\n",
       "        vertical-align: top;\n",
       "    }\n",
       "\n",
       "    .dataframe thead th {\n",
       "        text-align: right;\n",
       "    }\n",
       "</style>\n",
       "<table border=\"1\" class=\"dataframe\">\n",
       "  <thead>\n",
       "    <tr style=\"text-align: right;\">\n",
       "      <th></th>\n",
       "      <th>row_id</th>\n",
       "      <th>date</th>\n",
       "      <th>country</th>\n",
       "      <th>store</th>\n",
       "      <th>product</th>\n",
       "      <th>num_sold</th>\n",
       "    </tr>\n",
       "  </thead>\n",
       "  <tbody>\n",
       "    <tr>\n",
       "      <th>0</th>\n",
       "      <td>0</td>\n",
       "      <td>2017-01-01</td>\n",
       "      <td>Belgium</td>\n",
       "      <td>KaggleMart</td>\n",
       "      <td>Kaggle Advanced Techniques</td>\n",
       "      <td>663</td>\n",
       "    </tr>\n",
       "    <tr>\n",
       "      <th>1</th>\n",
       "      <td>1</td>\n",
       "      <td>2017-01-01</td>\n",
       "      <td>Belgium</td>\n",
       "      <td>KaggleMart</td>\n",
       "      <td>Kaggle Getting Started</td>\n",
       "      <td>615</td>\n",
       "    </tr>\n",
       "    <tr>\n",
       "      <th>2</th>\n",
       "      <td>2</td>\n",
       "      <td>2017-01-01</td>\n",
       "      <td>Belgium</td>\n",
       "      <td>KaggleMart</td>\n",
       "      <td>Kaggle Recipe Book</td>\n",
       "      <td>480</td>\n",
       "    </tr>\n",
       "    <tr>\n",
       "      <th>3</th>\n",
       "      <td>3</td>\n",
       "      <td>2017-01-01</td>\n",
       "      <td>Belgium</td>\n",
       "      <td>KaggleMart</td>\n",
       "      <td>Kaggle for Kids: One Smart Goose</td>\n",
       "      <td>710</td>\n",
       "    </tr>\n",
       "    <tr>\n",
       "      <th>4</th>\n",
       "      <td>4</td>\n",
       "      <td>2017-01-01</td>\n",
       "      <td>Belgium</td>\n",
       "      <td>KaggleRama</td>\n",
       "      <td>Kaggle Advanced Techniques</td>\n",
       "      <td>240</td>\n",
       "    </tr>\n",
       "  </tbody>\n",
       "</table>\n",
       "</div>"
      ],
      "text/plain": [
       "   row_id        date  country       store                           product  \\\n",
       "0       0  2017-01-01  Belgium  KaggleMart        Kaggle Advanced Techniques   \n",
       "1       1  2017-01-01  Belgium  KaggleMart            Kaggle Getting Started   \n",
       "2       2  2017-01-01  Belgium  KaggleMart                Kaggle Recipe Book   \n",
       "3       3  2017-01-01  Belgium  KaggleMart  Kaggle for Kids: One Smart Goose   \n",
       "4       4  2017-01-01  Belgium  KaggleRama        Kaggle Advanced Techniques   \n",
       "\n",
       "   num_sold  \n",
       "0       663  \n",
       "1       615  \n",
       "2       480  \n",
       "3       710  \n",
       "4       240  "
      ]
     },
     "execution_count": 5,
     "metadata": {},
     "output_type": "execute_result"
    }
   ],
   "source": [
    "train_data.head()"
   ]
  },
  {
   "cell_type": "code",
   "execution_count": 6,
   "id": "72957d15",
   "metadata": {
    "execution": {
     "iopub.execute_input": "2022-09-30T18:14:02.204270Z",
     "iopub.status.busy": "2022-09-30T18:14:02.203636Z",
     "iopub.status.idle": "2022-09-30T18:14:02.215816Z",
     "shell.execute_reply": "2022-09-30T18:14:02.214659Z"
    },
    "papermill": {
     "duration": 0.021349,
     "end_time": "2022-09-30T18:14:02.217961",
     "exception": false,
     "start_time": "2022-09-30T18:14:02.196612",
     "status": "completed"
    },
    "tags": []
   },
   "outputs": [
    {
     "data": {
      "text/html": [
       "<div>\n",
       "<style scoped>\n",
       "    .dataframe tbody tr th:only-of-type {\n",
       "        vertical-align: middle;\n",
       "    }\n",
       "\n",
       "    .dataframe tbody tr th {\n",
       "        vertical-align: top;\n",
       "    }\n",
       "\n",
       "    .dataframe thead th {\n",
       "        text-align: right;\n",
       "    }\n",
       "</style>\n",
       "<table border=\"1\" class=\"dataframe\">\n",
       "  <thead>\n",
       "    <tr style=\"text-align: right;\">\n",
       "      <th></th>\n",
       "      <th>row_id</th>\n",
       "      <th>date</th>\n",
       "      <th>country</th>\n",
       "      <th>store</th>\n",
       "      <th>product</th>\n",
       "      <th>num_sold</th>\n",
       "    </tr>\n",
       "  </thead>\n",
       "  <tbody>\n",
       "    <tr>\n",
       "      <th>70123</th>\n",
       "      <td>70123</td>\n",
       "      <td>2020-12-31</td>\n",
       "      <td>Spain</td>\n",
       "      <td>KaggleMart</td>\n",
       "      <td>Kaggle for Kids: One Smart Goose</td>\n",
       "      <td>614</td>\n",
       "    </tr>\n",
       "    <tr>\n",
       "      <th>70124</th>\n",
       "      <td>70124</td>\n",
       "      <td>2020-12-31</td>\n",
       "      <td>Spain</td>\n",
       "      <td>KaggleRama</td>\n",
       "      <td>Kaggle Advanced Techniques</td>\n",
       "      <td>215</td>\n",
       "    </tr>\n",
       "    <tr>\n",
       "      <th>70125</th>\n",
       "      <td>70125</td>\n",
       "      <td>2020-12-31</td>\n",
       "      <td>Spain</td>\n",
       "      <td>KaggleRama</td>\n",
       "      <td>Kaggle Getting Started</td>\n",
       "      <td>158</td>\n",
       "    </tr>\n",
       "    <tr>\n",
       "      <th>70126</th>\n",
       "      <td>70126</td>\n",
       "      <td>2020-12-31</td>\n",
       "      <td>Spain</td>\n",
       "      <td>KaggleRama</td>\n",
       "      <td>Kaggle Recipe Book</td>\n",
       "      <td>135</td>\n",
       "    </tr>\n",
       "    <tr>\n",
       "      <th>70127</th>\n",
       "      <td>70127</td>\n",
       "      <td>2020-12-31</td>\n",
       "      <td>Spain</td>\n",
       "      <td>KaggleRama</td>\n",
       "      <td>Kaggle for Kids: One Smart Goose</td>\n",
       "      <td>202</td>\n",
       "    </tr>\n",
       "  </tbody>\n",
       "</table>\n",
       "</div>"
      ],
      "text/plain": [
       "       row_id        date country       store  \\\n",
       "70123   70123  2020-12-31   Spain  KaggleMart   \n",
       "70124   70124  2020-12-31   Spain  KaggleRama   \n",
       "70125   70125  2020-12-31   Spain  KaggleRama   \n",
       "70126   70126  2020-12-31   Spain  KaggleRama   \n",
       "70127   70127  2020-12-31   Spain  KaggleRama   \n",
       "\n",
       "                                product  num_sold  \n",
       "70123  Kaggle for Kids: One Smart Goose       614  \n",
       "70124        Kaggle Advanced Techniques       215  \n",
       "70125            Kaggle Getting Started       158  \n",
       "70126                Kaggle Recipe Book       135  \n",
       "70127  Kaggle for Kids: One Smart Goose       202  "
      ]
     },
     "execution_count": 6,
     "metadata": {},
     "output_type": "execute_result"
    }
   ],
   "source": [
    "train_data.tail()"
   ]
  },
  {
   "cell_type": "code",
   "execution_count": 7,
   "id": "36ee28fb",
   "metadata": {
    "execution": {
     "iopub.execute_input": "2022-09-30T18:14:02.231427Z",
     "iopub.status.busy": "2022-09-30T18:14:02.231068Z",
     "iopub.status.idle": "2022-09-30T18:14:02.264810Z",
     "shell.execute_reply": "2022-09-30T18:14:02.263874Z"
    },
    "papermill": {
     "duration": 0.043296,
     "end_time": "2022-09-30T18:14:02.267379",
     "exception": false,
     "start_time": "2022-09-30T18:14:02.224083",
     "status": "completed"
    },
    "tags": []
   },
   "outputs": [],
   "source": [
    "train_data['date'] = pd.to_datetime(train_data['date'])\n",
    "test_data['date'] = pd.to_datetime(test_data['date'])"
   ]
  },
  {
   "cell_type": "code",
   "execution_count": 8,
   "id": "596162e0",
   "metadata": {
    "execution": {
     "iopub.execute_input": "2022-09-30T18:14:02.281445Z",
     "iopub.status.busy": "2022-09-30T18:14:02.280536Z",
     "iopub.status.idle": "2022-09-30T18:14:05.531016Z",
     "shell.execute_reply": "2022-09-30T18:14:05.529872Z"
    },
    "papermill": {
     "duration": 3.259976,
     "end_time": "2022-09-30T18:14:05.533451",
     "exception": false,
     "start_time": "2022-09-30T18:14:02.273475",
     "status": "completed"
    },
    "tags": []
   },
   "outputs": [
    {
     "data": {
      "text/plain": [
       "Text(0.5, 1.0, 'Product Sales by Store')"
      ]
     },
     "execution_count": 8,
     "metadata": {},
     "output_type": "execute_result"
    },
    {
     "data": {
      "image/png": "[encoded data removed]",
      "text/plain": [
       "<Figure size 1080x648 with 2 Axes>"
      ]
     },
     "metadata": {},
     "output_type": "display_data"
    }
   ],
   "source": [
    "fig = plt.figure(figsize=(15,9))\n",
    "fig.set_facecolor('white')\n",
    "\n",
    "ax1 = fig.add_subplot(1, 2, 1)\n",
    "sns.barplot(data=train_data, x='country', y='num_sold', hue='product')\n",
    "ax1.set_title('Product Sales by Product')\n",
    "\n",
    "ax2 = fig.add_subplot(1, 2, 2)\n",
    "sns.barplot(data=train_data, x='store', y='num_sold', hue='product')\n",
    "ax2.set_title(\"Product Sales by Store\")"
   ]
  },
  {
   "cell_type": "code",
   "execution_count": 9,
   "id": "560bf2f7",
   "metadata": {
    "execution": {
     "iopub.execute_input": "2022-09-30T18:14:05.548510Z",
     "iopub.status.busy": "2022-09-30T18:14:05.548163Z",
     "iopub.status.idle": "2022-09-30T18:14:05.604786Z",
     "shell.execute_reply": "2022-09-30T18:14:05.603597Z"
    },
    "papermill": {
     "duration": 0.066876,
     "end_time": "2022-09-30T18:14:05.607232",
     "exception": false,
     "start_time": "2022-09-30T18:14:05.540356",
     "status": "completed"
    },
    "tags": []
   },
   "outputs": [
    {
     "data": {
      "text/html": [
       "<div>\n",
       "<style scoped>\n",
       "    .dataframe tbody tr th:only-of-type {\n",
       "        vertical-align: middle;\n",
       "    }\n",
       "\n",
       "    .dataframe tbody tr th {\n",
       "        vertical-align: top;\n",
       "    }\n",
       "\n",
       "    .dataframe thead th {\n",
       "        text-align: right;\n",
       "    }\n",
       "</style>\n",
       "<table border=\"1\" class=\"dataframe\">\n",
       "  <thead>\n",
       "    <tr style=\"text-align: right;\">\n",
       "      <th></th>\n",
       "      <th>country</th>\n",
       "      <th>store</th>\n",
       "      <th>product</th>\n",
       "      <th>date</th>\n",
       "      <th>num_sold</th>\n",
       "    </tr>\n",
       "  </thead>\n",
       "  <tbody>\n",
       "    <tr>\n",
       "      <th>0</th>\n",
       "      <td>Belgium</td>\n",
       "      <td>KaggleMart</td>\n",
       "      <td>Kaggle Advanced Techniques</td>\n",
       "      <td>2017-01-01</td>\n",
       "      <td>13345</td>\n",
       "    </tr>\n",
       "    <tr>\n",
       "      <th>1</th>\n",
       "      <td>Belgium</td>\n",
       "      <td>KaggleMart</td>\n",
       "      <td>Kaggle Advanced Techniques</td>\n",
       "      <td>2017-02-01</td>\n",
       "      <td>12556</td>\n",
       "    </tr>\n",
       "    <tr>\n",
       "      <th>2</th>\n",
       "      <td>Belgium</td>\n",
       "      <td>KaggleMart</td>\n",
       "      <td>Kaggle Advanced Techniques</td>\n",
       "      <td>2017-03-01</td>\n",
       "      <td>14137</td>\n",
       "    </tr>\n",
       "    <tr>\n",
       "      <th>3</th>\n",
       "      <td>Belgium</td>\n",
       "      <td>KaggleMart</td>\n",
       "      <td>Kaggle Advanced Techniques</td>\n",
       "      <td>2017-04-01</td>\n",
       "      <td>14575</td>\n",
       "    </tr>\n",
       "    <tr>\n",
       "      <th>4</th>\n",
       "      <td>Belgium</td>\n",
       "      <td>KaggleMart</td>\n",
       "      <td>Kaggle Advanced Techniques</td>\n",
       "      <td>2017-05-01</td>\n",
       "      <td>14338</td>\n",
       "    </tr>\n",
       "    <tr>\n",
       "      <th>...</th>\n",
       "      <td>...</td>\n",
       "      <td>...</td>\n",
       "      <td>...</td>\n",
       "      <td>...</td>\n",
       "      <td>...</td>\n",
       "    </tr>\n",
       "    <tr>\n",
       "      <th>2299</th>\n",
       "      <td>Spain</td>\n",
       "      <td>KaggleRama</td>\n",
       "      <td>Kaggle for Kids: One Smart Goose</td>\n",
       "      <td>2020-08-01</td>\n",
       "      <td>4578</td>\n",
       "    </tr>\n",
       "    <tr>\n",
       "      <th>2300</th>\n",
       "      <td>Spain</td>\n",
       "      <td>KaggleRama</td>\n",
       "      <td>Kaggle for Kids: One Smart Goose</td>\n",
       "      <td>2020-09-01</td>\n",
       "      <td>4254</td>\n",
       "    </tr>\n",
       "    <tr>\n",
       "      <th>2301</th>\n",
       "      <td>Spain</td>\n",
       "      <td>KaggleRama</td>\n",
       "      <td>Kaggle for Kids: One Smart Goose</td>\n",
       "      <td>2020-10-01</td>\n",
       "      <td>4644</td>\n",
       "    </tr>\n",
       "    <tr>\n",
       "      <th>2302</th>\n",
       "      <td>Spain</td>\n",
       "      <td>KaggleRama</td>\n",
       "      <td>Kaggle for Kids: One Smart Goose</td>\n",
       "      <td>2020-11-01</td>\n",
       "      <td>4437</td>\n",
       "    </tr>\n",
       "    <tr>\n",
       "      <th>2303</th>\n",
       "      <td>Spain</td>\n",
       "      <td>KaggleRama</td>\n",
       "      <td>Kaggle for Kids: One Smart Goose</td>\n",
       "      <td>2020-12-01</td>\n",
       "      <td>5033</td>\n",
       "    </tr>\n",
       "  </tbody>\n",
       "</table>\n",
       "<p>2304 rows × 5 columns</p>\n",
       "</div>"
      ],
      "text/plain": [
       "      country       store                           product       date  \\\n",
       "0     Belgium  KaggleMart        Kaggle Advanced Techniques 2017-01-01   \n",
       "1     Belgium  KaggleMart        Kaggle Advanced Techniques 2017-02-01   \n",
       "2     Belgium  KaggleMart        Kaggle Advanced Techniques 2017-03-01   \n",
       "3     Belgium  KaggleMart        Kaggle Advanced Techniques 2017-04-01   \n",
       "4     Belgium  KaggleMart        Kaggle Advanced Techniques 2017-05-01   \n",
       "...       ...         ...                               ...        ...   \n",
       "2299    Spain  KaggleRama  Kaggle for Kids: One Smart Goose 2020-08-01   \n",
       "2300    Spain  KaggleRama  Kaggle for Kids: One Smart Goose 2020-09-01   \n",
       "2301    Spain  KaggleRama  Kaggle for Kids: One Smart Goose 2020-10-01   \n",
       "2302    Spain  KaggleRama  Kaggle for Kids: One Smart Goose 2020-11-01   \n",
       "2303    Spain  KaggleRama  Kaggle for Kids: One Smart Goose 2020-12-01   \n",
       "\n",
       "      num_sold  \n",
       "0        13345  \n",
       "1        12556  \n",
       "2        14137  \n",
       "3        14575  \n",
       "4        14338  \n",
       "...        ...  \n",
       "2299      4578  \n",
       "2300      4254  \n",
       "2301      4644  \n",
       "2302      4437  \n",
       "2303      5033  \n",
       "\n",
       "[2304 rows x 5 columns]"
      ]
     },
     "execution_count": 9,
     "metadata": {},
     "output_type": "execute_result"
    }
   ],
   "source": [
    "monthly_sales = train_data.groupby(['country', 'store', 'product', pd.Grouper(key='date', freq='MS')])['num_sold'].sum().reset_index()\n",
    "monthly_sales"
   ]
  },
  {
   "cell_type": "code",
   "execution_count": 10,
   "id": "27789634",
   "metadata": {
    "execution": {
     "iopub.execute_input": "2022-09-30T18:14:05.623295Z",
     "iopub.status.busy": "2022-09-30T18:14:05.622923Z",
     "iopub.status.idle": "2022-09-30T18:14:05.678071Z",
     "shell.execute_reply": "2022-09-30T18:14:05.676794Z"
    },
    "papermill": {
     "duration": 0.066724,
     "end_time": "2022-09-30T18:14:05.681251",
     "exception": false,
     "start_time": "2022-09-30T18:14:05.614527",
     "status": "completed"
    },
    "tags": []
   },
   "outputs": [],
   "source": [
    "def format_date(df):\n",
    "    df['year'] = df['date'].dt.year\n",
    "    df['month'] = df['date'].dt.month\n",
    "    df['day'] = df['date'].dt.day\n",
    "    df['dayOfYear'] = df['date'].dt.dayofyear\n",
    "    df['weekday'] = df['date'].dt.weekday\n",
    "    return df\n",
    "\n",
    "train_data = format_date(train_data)\n",
    "test_data = format_date(test_data)"
   ]
  },
  {
   "cell_type": "code",
   "execution_count": 11,
   "id": "4dd1ff96",
   "metadata": {
    "execution": {
     "iopub.execute_input": "2022-09-30T18:14:05.698315Z",
     "iopub.status.busy": "2022-09-30T18:14:05.697927Z",
     "iopub.status.idle": "2022-09-30T18:14:05.765699Z",
     "shell.execute_reply": "2022-09-30T18:14:05.764697Z"
    },
    "papermill": {
     "duration": 0.079551,
     "end_time": "2022-09-30T18:14:05.768115",
     "exception": false,
     "start_time": "2022-09-30T18:14:05.688564",
     "status": "completed"
    },
    "tags": []
   },
   "outputs": [],
   "source": [
    "le = LabelEncoder()\n",
    "cols = ['country', 'store', 'product']\n",
    "for col in cols:\n",
    "    train_data[col] = le.fit_transform(train_data[col])\n",
    "    test_data[col] = le.transform(test_data[col])"
   ]
  },
  {
   "cell_type": "code",
   "execution_count": 12,
   "id": "0af57397",
   "metadata": {
    "execution": {
     "iopub.execute_input": "2022-09-30T18:14:05.784568Z",
     "iopub.status.busy": "2022-09-30T18:14:05.783931Z",
     "iopub.status.idle": "2022-09-30T18:14:05.801846Z",
     "shell.execute_reply": "2022-09-30T18:14:05.800664Z"
    },
    "papermill": {
     "duration": 0.029236,
     "end_time": "2022-09-30T18:14:05.804500",
     "exception": false,
     "start_time": "2022-09-30T18:14:05.775264",
     "status": "completed"
    },
    "tags": []
   },
   "outputs": [],
   "source": [
    "train_data = train_data.drop(['date', 'row_id'], axis=1)\n",
    "test_data = test_data.drop(['date', 'row_id'], axis=1)\n"
   ]
  },
  {
   "cell_type": "code",
   "execution_count": 13,
   "id": "08ffa000",
   "metadata": {
    "execution": {
     "iopub.execute_input": "2022-09-30T18:14:05.821041Z",
     "iopub.status.busy": "2022-09-30T18:14:05.820613Z",
     "iopub.status.idle": "2022-09-30T18:14:05.828298Z",
     "shell.execute_reply": "2022-09-30T18:14:05.827234Z"
    },
    "papermill": {
     "duration": 0.018465,
     "end_time": "2022-09-30T18:14:05.830560",
     "exception": false,
     "start_time": "2022-09-30T18:14:05.812095",
     "status": "completed"
    },
    "tags": []
   },
   "outputs": [],
   "source": [
    "X = train_data.drop('num_sold', axis=1)\n",
    "y = train_data['num_sold'] "
   ]
  },
  {
   "cell_type": "code",
   "execution_count": 14,
   "id": "173c7c30",
   "metadata": {
    "execution": {
     "iopub.execute_input": "2022-09-30T18:14:05.846493Z",
     "iopub.status.busy": "2022-09-30T18:14:05.845863Z",
     "iopub.status.idle": "2022-09-30T18:14:05.850344Z",
     "shell.execute_reply": "2022-09-30T18:14:05.849641Z"
    },
    "papermill": {
     "duration": 0.014463,
     "end_time": "2022-09-30T18:14:05.852167",
     "exception": false,
     "start_time": "2022-09-30T18:14:05.837704",
     "status": "completed"
    },
    "tags": []
   },
   "outputs": [],
   "source": [
    "lgb = LGBMRegressor(random_state=42, boosting_type='dart')\n",
    "lr = LinearRegression()\n",
    "\n",
    "models = [lgb, lr]"
   ]
  },
  {
   "cell_type": "code",
   "execution_count": 15,
   "id": "924c4118",
   "metadata": {
    "execution": {
     "iopub.execute_input": "2022-09-30T18:14:05.867669Z",
     "iopub.status.busy": "2022-09-30T18:14:05.867074Z",
     "iopub.status.idle": "2022-09-30T18:14:05.872107Z",
     "shell.execute_reply": "2022-09-30T18:14:05.871170Z"
    },
    "papermill": {
     "duration": 0.014991,
     "end_time": "2022-09-30T18:14:05.874067",
     "exception": false,
     "start_time": "2022-09-30T18:14:05.859076",
     "status": "completed"
    },
    "tags": []
   },
   "outputs": [],
   "source": [
    "def get_scores(cv_scores):\n",
    "    scores = np.zeros(test_data.shape[0])\n",
    "    for estimator in cv_scores['estimator']:\n",
    "        scores += estimator.predict(test_data)\n",
    "    scores /= len(cv_scores['estimator'])\n",
    "    return scores"
   ]
  },
  {
   "cell_type": "code",
   "execution_count": 16,
   "id": "1ee7efa7",
   "metadata": {
    "execution": {
     "iopub.execute_input": "2022-09-30T18:14:05.890426Z",
     "iopub.status.busy": "2022-09-30T18:14:05.889496Z",
     "iopub.status.idle": "2022-09-30T18:14:58.567866Z",
     "shell.execute_reply": "2022-09-30T18:14:58.566361Z"
    },
    "papermill": {
     "duration": 52.690295,
     "end_time": "2022-09-30T18:14:58.571424",
     "exception": false,
     "start_time": "2022-09-30T18:14:05.881129",
     "status": "completed"
    },
    "tags": []
   },
   "outputs": [
    {
     "name": "stdout",
     "output_type": "stream",
     "text": [
      "LGBMRegressor training\n",
      "LinearRegression training\n"
     ]
    }
   ],
   "source": [
    "def smape(a, f):\n",
    "    # Symmetric mean absolute percentage error (SMAPE or sMAPE) is an accuracy measure based on percentage (or relative) errors\n",
    "    return 1/len(a) * np.sum(2 * np.abs(f-a) / (np.abs(a) + np.abs(f))*100)\n",
    "\n",
    "smape_score = make_scorer(smape, greater_is_better=False)\n",
    "\n",
    "scalar = StandardScaler()\n",
    "\n",
    "res = pd.DataFrame()\n",
    "row_number = 0\n",
    "results = []\n",
    "names = []\n",
    "prob_scores = []\n",
    "\n",
    "for model in models:\n",
    "    model_name=model.__class__.__name__\n",
    "    pipeline = Pipeline([('transformer', scalar), ('estimator', model)])\n",
    "    print(model_name, 'training')\n",
    "\n",
    "    cv_results = cross_validate(pipeline, X, y, cv=42, scoring=smape_score, return_train_score=True, return_estimator=True, n_jobs=-1)\n",
    "\n",
    "    res.loc[row_number,'Model Name'] = model_name\n",
    "    res.loc[row_number, 'Train Score Mean'] = cv_results['train_score'].mean()\n",
    "    res.loc[row_number, 'Test Score Mean'] = cv_results['test_score'].mean()\n",
    "    res.loc[row_number, 'Fit Time Mean'] = cv_results['fit_time'].mean()\n",
    "    results.append(cv_results)\n",
    "    names.append(model_name)\n",
    "    prob_scores.append(get_scores(cv_results))\n",
    "\n",
    "    row_number+=1"
   ]
  },
  {
   "cell_type": "code",
   "execution_count": 17,
   "id": "fd128293",
   "metadata": {
    "execution": {
     "iopub.execute_input": "2022-09-30T18:14:58.598339Z",
     "iopub.status.busy": "2022-09-30T18:14:58.597775Z",
     "iopub.status.idle": "2022-09-30T18:14:58.704236Z",
     "shell.execute_reply": "2022-09-30T18:14:58.703139Z"
    },
    "papermill": {
     "duration": 0.122604,
     "end_time": "2022-09-30T18:14:58.706486",
     "exception": false,
     "start_time": "2022-09-30T18:14:58.583882",
     "status": "completed"
    },
    "tags": []
   },
   "outputs": [
    {
     "data": {
      "text/html": [
       "<style type=\"text/css\">\n",
       "#T_470f5_row0_col1, #T_470f5_row0_col2, #T_470f5_row0_col3 {\n",
       "  background-color: #023858;\n",
       "  color: #f1f1f1;\n",
       "}\n",
       "#T_470f5_row1_col1, #T_470f5_row1_col2, #T_470f5_row1_col3 {\n",
       "  background-color: #fff7fb;\n",
       "  color: #000000;\n",
       "}\n",
       "</style>\n",
       "<table id=\"T_470f5_\">\n",
       "  <thead>\n",
       "    <tr>\n",
       "      <th class=\"blank level0\" >&nbsp;</th>\n",
       "      <th class=\"col_heading level0 col0\" >Model Name</th>\n",
       "      <th class=\"col_heading level0 col1\" >Train Score Mean</th>\n",
       "      <th class=\"col_heading level0 col2\" >Test Score Mean</th>\n",
       "      <th class=\"col_heading level0 col3\" >Fit Time Mean</th>\n",
       "    </tr>\n",
       "  </thead>\n",
       "  <tbody>\n",
       "    <tr>\n",
       "      <th id=\"T_470f5_level0_row0\" class=\"row_heading level0 row0\" >0</th>\n",
       "      <td id=\"T_470f5_row0_col0\" class=\"data row0 col0\" >LGBMRegressor</td>\n",
       "      <td id=\"T_470f5_row0_col1\" class=\"data row0 col1\" >-11.356153</td>\n",
       "      <td id=\"T_470f5_row0_col2\" class=\"data row0 col2\" >-11.911337</td>\n",
       "      <td id=\"T_470f5_row0_col3\" class=\"data row0 col3\" >3.822723</td>\n",
       "    </tr>\n",
       "    <tr>\n",
       "      <th id=\"T_470f5_level0_row1\" class=\"row_heading level0 row1\" >1</th>\n",
       "      <td id=\"T_470f5_row1_col0\" class=\"data row1 col0\" >LinearRegression</td>\n",
       "      <td id=\"T_470f5_row1_col1\" class=\"data row1 col1\" >-32.424895</td>\n",
       "      <td id=\"T_470f5_row1_col2\" class=\"data row1 col2\" >-32.607023</td>\n",
       "      <td id=\"T_470f5_row1_col3\" class=\"data row1 col3\" >0.047343</td>\n",
       "    </tr>\n",
       "  </tbody>\n",
       "</table>\n"
      ],
      "text/plain": [
       "<pandas.io.formats.style.Styler at 0x7fd4c5ed6ed0>"
      ]
     },
     "metadata": {},
     "output_type": "display_data"
    }
   ],
   "source": [
    "display(res.style.background_gradient())"
   ]
  },
  {
   "cell_type": "code",
   "execution_count": 18,
   "id": "919b6c11",
   "metadata": {
    "execution": {
     "iopub.execute_input": "2022-09-30T18:14:58.723804Z",
     "iopub.status.busy": "2022-09-30T18:14:58.723407Z",
     "iopub.status.idle": "2022-09-30T18:14:58.855011Z",
     "shell.execute_reply": "2022-09-30T18:14:58.853766Z"
    },
    "papermill": {
     "duration": 0.144514,
     "end_time": "2022-09-30T18:14:58.858916",
     "exception": false,
     "start_time": "2022-09-30T18:14:58.714402",
     "status": "completed"
    },
    "tags": []
   },
   "outputs": [],
   "source": [
    "scores = np.zeros(test_data.shape[0])\n",
    "for estimator in cv_results['estimator']:\n",
    "    scores += estimator.predict(test_data)\n",
    "    \n",
    "scores /= len(cv_results['estimator'])"
   ]
  },
  {
   "cell_type": "code",
   "execution_count": 19,
   "id": "4dfa1d58",
   "metadata": {
    "execution": {
     "iopub.execute_input": "2022-09-30T18:14:58.886412Z",
     "iopub.status.busy": "2022-09-30T18:14:58.885881Z",
     "iopub.status.idle": "2022-09-30T18:14:58.906853Z",
     "shell.execute_reply": "2022-09-30T18:14:58.905632Z"
    },
    "papermill": {
     "duration": 0.038511,
     "end_time": "2022-09-30T18:14:58.910487",
     "exception": false,
     "start_time": "2022-09-30T18:14:58.871976",
     "status": "completed"
    },
    "tags": []
   },
   "outputs": [
    {
     "data": {
      "text/html": [
       "<div>\n",
       "<style scoped>\n",
       "    .dataframe tbody tr th:only-of-type {\n",
       "        vertical-align: middle;\n",
       "    }\n",
       "\n",
       "    .dataframe tbody tr th {\n",
       "        vertical-align: top;\n",
       "    }\n",
       "\n",
       "    .dataframe thead th {\n",
       "        text-align: right;\n",
       "    }\n",
       "</style>\n",
       "<table border=\"1\" class=\"dataframe\">\n",
       "  <thead>\n",
       "    <tr style=\"text-align: right;\">\n",
       "      <th></th>\n",
       "      <th>row_id</th>\n",
       "      <th>num_sold</th>\n",
       "    </tr>\n",
       "  </thead>\n",
       "  <tbody>\n",
       "    <tr>\n",
       "      <th>0</th>\n",
       "      <td>70128</td>\n",
       "      <td>369.684694</td>\n",
       "    </tr>\n",
       "    <tr>\n",
       "      <th>1</th>\n",
       "      <td>70129</td>\n",
       "      <td>370.519003</td>\n",
       "    </tr>\n",
       "    <tr>\n",
       "      <th>2</th>\n",
       "      <td>70130</td>\n",
       "      <td>371.353311</td>\n",
       "    </tr>\n",
       "    <tr>\n",
       "      <th>3</th>\n",
       "      <td>70131</td>\n",
       "      <td>372.187620</td>\n",
       "    </tr>\n",
       "    <tr>\n",
       "      <th>4</th>\n",
       "      <td>70132</td>\n",
       "      <td>181.205075</td>\n",
       "    </tr>\n",
       "  </tbody>\n",
       "</table>\n",
       "</div>"
      ],
      "text/plain": [
       "   row_id    num_sold\n",
       "0   70128  369.684694\n",
       "1   70129  370.519003\n",
       "2   70130  371.353311\n",
       "3   70131  372.187620\n",
       "4   70132  181.205075"
      ]
     },
     "execution_count": 19,
     "metadata": {},
     "output_type": "execute_result"
    }
   ],
   "source": [
    "submission[\"num_sold\"] = scores\n",
    "submission.head()"
   ]
  },
  {
   "cell_type": "code",
   "execution_count": 20,
   "id": "47c709ab",
   "metadata": {
    "execution": {
     "iopub.execute_input": "2022-09-30T18:14:58.937723Z",
     "iopub.status.busy": "2022-09-30T18:14:58.937178Z",
     "iopub.status.idle": "2022-09-30T18:14:58.999994Z",
     "shell.execute_reply": "2022-09-30T18:14:58.999111Z"
    },
    "papermill": {
     "duration": 0.079698,
     "end_time": "2022-09-30T18:14:59.002673",
     "exception": false,
     "start_time": "2022-09-30T18:14:58.922975",
     "status": "completed"
    },
    "tags": []
   },
   "outputs": [],
   "source": [
    "submission.to_csv(\"submission.csv\", index = False)"
   ]
  },
  {
   "cell_type": "code",
   "execution_count": null,
   "id": "ca295f99",
   "metadata": {
    "papermill": {
     "duration": 0.00762,
     "end_time": "2022-09-30T18:14:59.018166",
     "exception": false,
     "start_time": "2022-09-30T18:14:59.010546",
     "status": "completed"
    },
    "tags": []
   },
   "outputs": [],
   "source": []
  }
 ],
 "metadata": {
  "kernelspec": {
   "display_name": "Python 3",
   "language": "python",
   "name": "python3"
  },
  "language_info": {
   "codemirror_mode": {
    "name": "ipython",
    "version": 3
   },
   "file_extension": ".py",
   "mimetype": "text/x-python",
   "name": "python",
   "nbconvert_exporter": "python",
   "pygments_lexer": "ipython3",
   "version": "3.7.12"
  },
  "papermill": {
   "default_parameters": {},
   "duration": 70.757787,
   "end_time": "2022-09-30T18:15:01.647184",
   "environment_variables": {},
   "exception": null,
   "input_path": "__notebook__.ipynb",
   "output_path": "__notebook__.ipynb",
   "parameters": {},
   "start_time": "2022-09-30T18:13:50.889397",
   "version": "2.3.4"
  }
 },
 "nbformat": 4,
 "nbformat_minor": 5
}
