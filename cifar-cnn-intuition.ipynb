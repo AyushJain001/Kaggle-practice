{
 "cells": [
  {
   "cell_type": "code",
   "execution_count": 1,
   "id": "f29af03b",
   "metadata": {
    "_cell_guid": "b1076dfc-b9ad-4769-8c92-a6c4dae69d19",
    "_uuid": "8f2839f25d086af736a60e9eeb907d3b93b6e0e5",
    "execution": {
     "iopub.execute_input": "2022-06-29T04:35:40.082829Z",
     "iopub.status.busy": "2022-06-29T04:35:40.082385Z",
     "iopub.status.idle": "2022-06-29T04:35:40.111598Z",
     "shell.execute_reply": "2022-06-29T04:35:40.110648Z"
    },
    "papermill": {
     "duration": 0.043504,
     "end_time": "2022-06-29T04:35:40.115215",
     "exception": false,
     "start_time": "2022-06-29T04:35:40.071711",
     "status": "completed"
    },
    "tags": []
   },
   "outputs": [
    {
     "name": "stdout",
     "output_type": "stream",
     "text": [
      "/kaggle/input/cifar10-python/cifar-10-python.tar.gz\n",
      "/kaggle/input/cifar10-python/cifar-10-batches-py/data_batch_1\n",
      "/kaggle/input/cifar10-python/cifar-10-batches-py/data_batch_2\n",
      "/kaggle/input/cifar10-python/cifar-10-batches-py/batches.meta\n",
      "/kaggle/input/cifar10-python/cifar-10-batches-py/test_batch\n",
      "/kaggle/input/cifar10-python/cifar-10-batches-py/data_batch_3\n",
      "/kaggle/input/cifar10-python/cifar-10-batches-py/data_batch_5\n",
      "/kaggle/input/cifar10-python/cifar-10-batches-py/data_batch_4\n",
      "/kaggle/input/cifar10-python/cifar-10-batches-py/readme.html\n"
     ]
    }
   ],
   "source": [
    "# This Python 3 environment comes with many helpful analytics libraries installed\n",
    "# It is defined by the kaggle/python Docker image: https://github.com/kaggle/docker-python\n",
    "# For example, here's several helpful packages to load\n",
    "\n",
    "import numpy as np # linear algebra\n",
    "import pandas as pd # data processing, CSV file I/O (e.g. pd.read_csv)\n",
    "\n",
    "# Input data files are available in the read-only \"../input/\" directory\n",
    "# For example, running this (by clicking run or pressing Shift+Enter) will list all files under the input directory\n",
    "\n",
    "import os\n",
    "for dirname, _, filenames in os.walk('/kaggle/input'):\n",
    "    for filename in filenames:\n",
    "        print(os.path.join(dirname, filename))\n",
    "\n",
    "# You can write up to 20GB to the current directory (/kaggle/working/) that gets preserved as output when you create a version using \"Save & Run All\" \n",
    "# You can also write temporary files to /kaggle/temp/, but they won't be saved outside of the current session"
   ]
  },
  {
   "cell_type": "code",
   "execution_count": 2,
   "id": "cc5a9b34",
   "metadata": {
    "execution": {
     "iopub.execute_input": "2022-06-29T04:35:40.132804Z",
     "iopub.status.busy": "2022-06-29T04:35:40.132154Z",
     "iopub.status.idle": "2022-06-29T04:35:50.737739Z",
     "shell.execute_reply": "2022-06-29T04:35:50.736608Z"
    },
    "papermill": {
     "duration": 10.616965,
     "end_time": "2022-06-29T04:35:50.740515",
     "exception": false,
     "start_time": "2022-06-29T04:35:40.123550",
     "status": "completed"
    },
    "tags": []
   },
   "outputs": [],
   "source": [
    "import tensorflow as tf\n",
    "from tensorflow.keras import datasets,layers,models\n",
    "import matplotlib.pyplot as plt\n",
    "import numpy as np"
   ]
  },
  {
   "cell_type": "code",
   "execution_count": 3,
   "id": "e5be0c5b",
   "metadata": {
    "execution": {
     "iopub.execute_input": "2022-06-29T04:35:50.757538Z",
     "iopub.status.busy": "2022-06-29T04:35:50.755913Z",
     "iopub.status.idle": "2022-06-29T04:35:57.294137Z",
     "shell.execute_reply": "2022-06-29T04:35:57.293094Z"
    },
    "papermill": {
     "duration": 6.549459,
     "end_time": "2022-06-29T04:35:57.297066",
     "exception": false,
     "start_time": "2022-06-29T04:35:50.747607",
     "status": "completed"
    },
    "tags": []
   },
   "outputs": [
    {
     "name": "stdout",
     "output_type": "stream",
     "text": [
      "Downloading data from https://www.cs.toronto.edu/~kriz/cifar-10-python.tar.gz\n",
      "170500096/170498071 [==============================] - 4s 0us/step\n",
      "170508288/170498071 [==============================] - 4s 0us/step\n"
     ]
    }
   ],
   "source": [
    "(X_train,y_train),(X_test,y_test)=datasets.cifar10.load_data()"
   ]
  },
  {
   "cell_type": "code",
   "execution_count": 4,
   "id": "5eba8d6e",
   "metadata": {
    "execution": {
     "iopub.execute_input": "2022-06-29T04:35:57.325473Z",
     "iopub.status.busy": "2022-06-29T04:35:57.325107Z",
     "iopub.status.idle": "2022-06-29T04:35:57.334210Z",
     "shell.execute_reply": "2022-06-29T04:35:57.332919Z"
    },
    "papermill": {
     "duration": 0.025891,
     "end_time": "2022-06-29T04:35:57.336469",
     "exception": false,
     "start_time": "2022-06-29T04:35:57.310578",
     "status": "completed"
    },
    "tags": []
   },
   "outputs": [
    {
     "data": {
      "text/plain": [
       "(50000, 32, 32, 3)"
      ]
     },
     "execution_count": 4,
     "metadata": {},
     "output_type": "execute_result"
    }
   ],
   "source": [
    "X_train.shape"
   ]
  },
  {
   "cell_type": "code",
   "execution_count": 5,
   "id": "57e0ead5",
   "metadata": {
    "execution": {
     "iopub.execute_input": "2022-06-29T04:35:57.365554Z",
     "iopub.status.busy": "2022-06-29T04:35:57.365168Z",
     "iopub.status.idle": "2022-06-29T04:35:57.372493Z",
     "shell.execute_reply": "2022-06-29T04:35:57.371214Z"
    },
    "papermill": {
     "duration": 0.024251,
     "end_time": "2022-06-29T04:35:57.374615",
     "exception": false,
     "start_time": "2022-06-29T04:35:57.350364",
     "status": "completed"
    },
    "tags": []
   },
   "outputs": [
    {
     "data": {
      "text/plain": [
       "(50000, 1)"
      ]
     },
     "execution_count": 5,
     "metadata": {},
     "output_type": "execute_result"
    }
   ],
   "source": [
    "y_train.shape"
   ]
  },
  {
   "cell_type": "code",
   "execution_count": 6,
   "id": "739703a0",
   "metadata": {
    "execution": {
     "iopub.execute_input": "2022-06-29T04:35:57.403090Z",
     "iopub.status.busy": "2022-06-29T04:35:57.402718Z",
     "iopub.status.idle": "2022-06-29T04:35:57.410550Z",
     "shell.execute_reply": "2022-06-29T04:35:57.409574Z"
    },
    "papermill": {
     "duration": 0.02512,
     "end_time": "2022-06-29T04:35:57.413066",
     "exception": false,
     "start_time": "2022-06-29T04:35:57.387946",
     "status": "completed"
    },
    "tags": []
   },
   "outputs": [
    {
     "data": {
      "text/plain": [
       "array([6, 9, 9, 4, 1], dtype=uint8)"
      ]
     },
     "execution_count": 6,
     "metadata": {},
     "output_type": "execute_result"
    }
   ],
   "source": [
    "y_train=y_train.reshape(-1,)\n",
    "y_train[:5]"
   ]
  },
  {
   "cell_type": "code",
   "execution_count": 7,
   "id": "254ca59a",
   "metadata": {
    "execution": {
     "iopub.execute_input": "2022-06-29T04:35:57.443170Z",
     "iopub.status.busy": "2022-06-29T04:35:57.442217Z",
     "iopub.status.idle": "2022-06-29T04:35:57.447533Z",
     "shell.execute_reply": "2022-06-29T04:35:57.446486Z"
    },
    "papermill": {
     "duration": 0.023187,
     "end_time": "2022-06-29T04:35:57.449816",
     "exception": false,
     "start_time": "2022-06-29T04:35:57.426629",
     "status": "completed"
    },
    "tags": []
   },
   "outputs": [],
   "source": [
    "y_test=y_test.reshape(-1,)"
   ]
  },
  {
   "cell_type": "code",
   "execution_count": 8,
   "id": "8760b38c",
   "metadata": {
    "execution": {
     "iopub.execute_input": "2022-06-29T04:35:57.478258Z",
     "iopub.status.busy": "2022-06-29T04:35:57.477840Z",
     "iopub.status.idle": "2022-06-29T04:35:57.482876Z",
     "shell.execute_reply": "2022-06-29T04:35:57.481858Z"
    },
    "papermill": {
     "duration": 0.022051,
     "end_time": "2022-06-29T04:35:57.485183",
     "exception": false,
     "start_time": "2022-06-29T04:35:57.463132",
     "status": "completed"
    },
    "tags": []
   },
   "outputs": [],
   "source": [
    "classes=['airplane','automobile','bird','cat','deer','dog','frog','horse','ship','truck']"
   ]
  },
  {
   "cell_type": "code",
   "execution_count": 9,
   "id": "d581f2fd",
   "metadata": {
    "execution": {
     "iopub.execute_input": "2022-06-29T04:35:57.514211Z",
     "iopub.status.busy": "2022-06-29T04:35:57.513777Z",
     "iopub.status.idle": "2022-06-29T04:35:57.519383Z",
     "shell.execute_reply": "2022-06-29T04:35:57.518437Z"
    },
    "papermill": {
     "duration": 0.022943,
     "end_time": "2022-06-29T04:35:57.521503",
     "exception": false,
     "start_time": "2022-06-29T04:35:57.498560",
     "status": "completed"
    },
    "tags": []
   },
   "outputs": [],
   "source": [
    "def plot_sample(X,y,index):\n",
    "    plt.figure(figsize=(15,2))\n",
    "    plt.imshow(X[index])\n",
    "    plt.xlabel(classes[y[index]])\n",
    "    "
   ]
  },
  {
   "cell_type": "code",
   "execution_count": 10,
   "id": "a4b92253",
   "metadata": {
    "execution": {
     "iopub.execute_input": "2022-06-29T04:35:57.550314Z",
     "iopub.status.busy": "2022-06-29T04:35:57.549686Z",
     "iopub.status.idle": "2022-06-29T04:35:57.898055Z",
     "shell.execute_reply": "2022-06-29T04:35:57.896873Z"
    },
    "papermill": {
     "duration": 0.365428,
     "end_time": "2022-06-29T04:35:57.900533",
     "exception": false,
     "start_time": "2022-06-29T04:35:57.535105",
     "status": "completed"
    },
    "tags": []
   },
   "outputs": [
    {
     "data": {
      "image/png": "[encoded data removed]",
      "text/plain": [
       "<Figure size 1080x144 with 1 Axes>"
      ]
     },
     "metadata": {
      "needs_background": "light"
     },
     "output_type": "display_data"
    }
   ],
   "source": [
    "plot_sample(X_train,y_train,1)"
   ]
  },
  {
   "cell_type": "code",
   "execution_count": 11,
   "id": "2626f2f8",
   "metadata": {
    "execution": {
     "iopub.execute_input": "2022-06-29T04:35:57.930648Z",
     "iopub.status.busy": "2022-06-29T04:35:57.930230Z",
     "iopub.status.idle": "2022-06-29T04:35:58.565941Z",
     "shell.execute_reply": "2022-06-29T04:35:58.564407Z"
    },
    "papermill": {
     "duration": 0.654967,
     "end_time": "2022-06-29T04:35:58.569507",
     "exception": false,
     "start_time": "2022-06-29T04:35:57.914540",
     "status": "completed"
    },
    "tags": []
   },
   "outputs": [],
   "source": [
    "X_train=X_train/255.0\n",
    "X_test=X_test/255.0"
   ]
  },
  {
   "cell_type": "code",
   "execution_count": 12,
   "id": "798d9f1f",
   "metadata": {
    "execution": {
     "iopub.execute_input": "2022-06-29T04:35:58.614128Z",
     "iopub.status.busy": "2022-06-29T04:35:58.613664Z",
     "iopub.status.idle": "2022-06-29T04:35:58.633662Z",
     "shell.execute_reply": "2022-06-29T04:35:58.632377Z"
    },
    "papermill": {
     "duration": 0.047608,
     "end_time": "2022-06-29T04:35:58.638404",
     "exception": false,
     "start_time": "2022-06-29T04:35:58.590796",
     "status": "completed"
    },
    "tags": []
   },
   "outputs": [
    {
     "data": {
      "text/plain": [
       "array([[[[0.23137255, 0.24313725, 0.24705882],\n",
       "         [0.16862745, 0.18039216, 0.17647059],\n",
       "         [0.19607843, 0.18823529, 0.16862745],\n",
       "         ...,\n",
       "         [0.61960784, 0.51764706, 0.42352941],\n",
       "         [0.59607843, 0.49019608, 0.4       ],\n",
       "         [0.58039216, 0.48627451, 0.40392157]],\n",
       "\n",
       "        [[0.0627451 , 0.07843137, 0.07843137],\n",
       "         [0.        , 0.        , 0.        ],\n",
       "         [0.07058824, 0.03137255, 0.        ],\n",
       "         ...,\n",
       "         [0.48235294, 0.34509804, 0.21568627],\n",
       "         [0.46666667, 0.3254902 , 0.19607843],\n",
       "         [0.47843137, 0.34117647, 0.22352941]],\n",
       "\n",
       "        [[0.09803922, 0.09411765, 0.08235294],\n",
       "         [0.0627451 , 0.02745098, 0.        ],\n",
       "         [0.19215686, 0.10588235, 0.03137255],\n",
       "         ...,\n",
       "         [0.4627451 , 0.32941176, 0.19607843],\n",
       "         [0.47058824, 0.32941176, 0.19607843],\n",
       "         [0.42745098, 0.28627451, 0.16470588]],\n",
       "\n",
       "        ...,\n",
       "\n",
       "        [[0.81568627, 0.66666667, 0.37647059],\n",
       "         [0.78823529, 0.6       , 0.13333333],\n",
       "         [0.77647059, 0.63137255, 0.10196078],\n",
       "         ...,\n",
       "         [0.62745098, 0.52156863, 0.2745098 ],\n",
       "         [0.21960784, 0.12156863, 0.02745098],\n",
       "         [0.20784314, 0.13333333, 0.07843137]],\n",
       "\n",
       "        [[0.70588235, 0.54509804, 0.37647059],\n",
       "         [0.67843137, 0.48235294, 0.16470588],\n",
       "         [0.72941176, 0.56470588, 0.11764706],\n",
       "         ...,\n",
       "         [0.72156863, 0.58039216, 0.36862745],\n",
       "         [0.38039216, 0.24313725, 0.13333333],\n",
       "         [0.3254902 , 0.20784314, 0.13333333]],\n",
       "\n",
       "        [[0.69411765, 0.56470588, 0.45490196],\n",
       "         [0.65882353, 0.50588235, 0.36862745],\n",
       "         [0.70196078, 0.55686275, 0.34117647],\n",
       "         ...,\n",
       "         [0.84705882, 0.72156863, 0.54901961],\n",
       "         [0.59215686, 0.4627451 , 0.32941176],\n",
       "         [0.48235294, 0.36078431, 0.28235294]]],\n",
       "\n",
       "\n",
       "       [[[0.60392157, 0.69411765, 0.73333333],\n",
       "         [0.49411765, 0.5372549 , 0.53333333],\n",
       "         [0.41176471, 0.40784314, 0.37254902],\n",
       "         ...,\n",
       "         [0.35686275, 0.37254902, 0.27843137],\n",
       "         [0.34117647, 0.35294118, 0.27843137],\n",
       "         [0.30980392, 0.31764706, 0.2745098 ]],\n",
       "\n",
       "        [[0.54901961, 0.62745098, 0.6627451 ],\n",
       "         [0.56862745, 0.6       , 0.60392157],\n",
       "         [0.49019608, 0.49019608, 0.4627451 ],\n",
       "         ...,\n",
       "         [0.37647059, 0.38823529, 0.30588235],\n",
       "         [0.30196078, 0.31372549, 0.24313725],\n",
       "         [0.27843137, 0.28627451, 0.23921569]],\n",
       "\n",
       "        [[0.54901961, 0.60784314, 0.64313725],\n",
       "         [0.54509804, 0.57254902, 0.58431373],\n",
       "         [0.45098039, 0.45098039, 0.43921569],\n",
       "         ...,\n",
       "         [0.30980392, 0.32156863, 0.25098039],\n",
       "         [0.26666667, 0.2745098 , 0.21568627],\n",
       "         [0.2627451 , 0.27058824, 0.21568627]],\n",
       "\n",
       "        ...,\n",
       "\n",
       "        [[0.68627451, 0.65490196, 0.65098039],\n",
       "         [0.61176471, 0.60392157, 0.62745098],\n",
       "         [0.60392157, 0.62745098, 0.66666667],\n",
       "         ...,\n",
       "         [0.16470588, 0.13333333, 0.14117647],\n",
       "         [0.23921569, 0.20784314, 0.22352941],\n",
       "         [0.36470588, 0.3254902 , 0.35686275]],\n",
       "\n",
       "        [[0.64705882, 0.60392157, 0.50196078],\n",
       "         [0.61176471, 0.59607843, 0.50980392],\n",
       "         [0.62352941, 0.63137255, 0.55686275],\n",
       "         ...,\n",
       "         [0.40392157, 0.36470588, 0.37647059],\n",
       "         [0.48235294, 0.44705882, 0.47058824],\n",
       "         [0.51372549, 0.4745098 , 0.51372549]],\n",
       "\n",
       "        [[0.63921569, 0.58039216, 0.47058824],\n",
       "         [0.61960784, 0.58039216, 0.47843137],\n",
       "         [0.63921569, 0.61176471, 0.52156863],\n",
       "         ...,\n",
       "         [0.56078431, 0.52156863, 0.54509804],\n",
       "         [0.56078431, 0.5254902 , 0.55686275],\n",
       "         [0.56078431, 0.52156863, 0.56470588]]],\n",
       "\n",
       "\n",
       "       [[[1.        , 1.        , 1.        ],\n",
       "         [0.99215686, 0.99215686, 0.99215686],\n",
       "         [0.99215686, 0.99215686, 0.99215686],\n",
       "         ...,\n",
       "         [0.99215686, 0.99215686, 0.99215686],\n",
       "         [0.99215686, 0.99215686, 0.99215686],\n",
       "         [0.99215686, 0.99215686, 0.99215686]],\n",
       "\n",
       "        [[1.        , 1.        , 1.        ],\n",
       "         [1.        , 1.        , 1.        ],\n",
       "         [1.        , 1.        , 1.        ],\n",
       "         ...,\n",
       "         [1.        , 1.        , 1.        ],\n",
       "         [1.        , 1.        , 1.        ],\n",
       "         [1.        , 1.        , 1.        ]],\n",
       "\n",
       "        [[1.        , 1.        , 1.        ],\n",
       "         [0.99607843, 0.99607843, 0.99607843],\n",
       "         [0.99607843, 0.99607843, 0.99607843],\n",
       "         ...,\n",
       "         [0.99607843, 0.99607843, 0.99607843],\n",
       "         [0.99607843, 0.99607843, 0.99607843],\n",
       "         [0.99607843, 0.99607843, 0.99607843]],\n",
       "\n",
       "        ...,\n",
       "\n",
       "        [[0.44313725, 0.47058824, 0.43921569],\n",
       "         [0.43529412, 0.4627451 , 0.43529412],\n",
       "         [0.41176471, 0.43921569, 0.41568627],\n",
       "         ...,\n",
       "         [0.28235294, 0.31764706, 0.31372549],\n",
       "         [0.28235294, 0.31372549, 0.30980392],\n",
       "         [0.28235294, 0.31372549, 0.30980392]],\n",
       "\n",
       "        [[0.43529412, 0.4627451 , 0.43137255],\n",
       "         [0.40784314, 0.43529412, 0.40784314],\n",
       "         [0.38823529, 0.41568627, 0.38431373],\n",
       "         ...,\n",
       "         [0.26666667, 0.29411765, 0.28627451],\n",
       "         [0.2745098 , 0.29803922, 0.29411765],\n",
       "         [0.30588235, 0.32941176, 0.32156863]],\n",
       "\n",
       "        [[0.41568627, 0.44313725, 0.41176471],\n",
       "         [0.38823529, 0.41568627, 0.38431373],\n",
       "         [0.37254902, 0.4       , 0.36862745],\n",
       "         ...,\n",
       "         [0.30588235, 0.33333333, 0.3254902 ],\n",
       "         [0.30980392, 0.33333333, 0.3254902 ],\n",
       "         [0.31372549, 0.3372549 , 0.32941176]]],\n",
       "\n",
       "\n",
       "       [[[0.10980392, 0.09803922, 0.03921569],\n",
       "         [0.14509804, 0.13333333, 0.0745098 ],\n",
       "         [0.14901961, 0.1372549 , 0.07843137],\n",
       "         ...,\n",
       "         [0.29803922, 0.2627451 , 0.15294118],\n",
       "         [0.31764706, 0.28235294, 0.16862745],\n",
       "         [0.33333333, 0.29803922, 0.18431373]],\n",
       "\n",
       "        [[0.12941176, 0.10980392, 0.05098039],\n",
       "         [0.13333333, 0.11764706, 0.05490196],\n",
       "         [0.1254902 , 0.10588235, 0.04705882],\n",
       "         ...,\n",
       "         [0.37254902, 0.32156863, 0.21568627],\n",
       "         [0.37647059, 0.32156863, 0.21960784],\n",
       "         [0.33333333, 0.28235294, 0.17647059]],\n",
       "\n",
       "        [[0.15294118, 0.1254902 , 0.05882353],\n",
       "         [0.15686275, 0.12941176, 0.06666667],\n",
       "         [0.22352941, 0.19607843, 0.12941176],\n",
       "         ...,\n",
       "         [0.36470588, 0.29803922, 0.20392157],\n",
       "         [0.41960784, 0.34901961, 0.25882353],\n",
       "         [0.37254902, 0.30196078, 0.21176471]],\n",
       "\n",
       "        ...,\n",
       "\n",
       "        [[0.3254902 , 0.28627451, 0.20392157],\n",
       "         [0.34117647, 0.30196078, 0.21960784],\n",
       "         [0.32941176, 0.29019608, 0.20392157],\n",
       "         ...,\n",
       "         [0.38823529, 0.36470588, 0.2745098 ],\n",
       "         [0.35294118, 0.32941176, 0.23921569],\n",
       "         [0.31764706, 0.29411765, 0.20392157]],\n",
       "\n",
       "        [[0.34509804, 0.28235294, 0.2       ],\n",
       "         [0.35294118, 0.29019608, 0.20392157],\n",
       "         [0.36470588, 0.30196078, 0.21960784],\n",
       "         ...,\n",
       "         [0.31372549, 0.29019608, 0.20784314],\n",
       "         [0.29803922, 0.2745098 , 0.19215686],\n",
       "         [0.32156863, 0.29803922, 0.21568627]],\n",
       "\n",
       "        [[0.38039216, 0.30588235, 0.21960784],\n",
       "         [0.36862745, 0.29411765, 0.20784314],\n",
       "         [0.36470588, 0.29411765, 0.20784314],\n",
       "         ...,\n",
       "         [0.21176471, 0.18431373, 0.10980392],\n",
       "         [0.24705882, 0.21960784, 0.14509804],\n",
       "         [0.28235294, 0.25490196, 0.18039216]]],\n",
       "\n",
       "\n",
       "       [[[0.66666667, 0.70588235, 0.77647059],\n",
       "         [0.65882353, 0.69803922, 0.76862745],\n",
       "         [0.69411765, 0.7254902 , 0.79607843],\n",
       "         ...,\n",
       "         [0.63529412, 0.70196078, 0.84313725],\n",
       "         [0.61960784, 0.69803922, 0.83921569],\n",
       "         [0.61568627, 0.69411765, 0.83137255]],\n",
       "\n",
       "        [[0.65882353, 0.70980392, 0.77647059],\n",
       "         [0.6745098 , 0.7254902 , 0.78823529],\n",
       "         [0.67058824, 0.71764706, 0.78431373],\n",
       "         ...,\n",
       "         [0.62352941, 0.69411765, 0.83137255],\n",
       "         [0.61176471, 0.69019608, 0.82745098],\n",
       "         [0.60392157, 0.68235294, 0.81960784]],\n",
       "\n",
       "        [[0.60392157, 0.66666667, 0.72941176],\n",
       "         [0.58431373, 0.64705882, 0.70980392],\n",
       "         [0.50588235, 0.56470588, 0.63529412],\n",
       "         ...,\n",
       "         [0.63137255, 0.69803922, 0.83921569],\n",
       "         [0.61568627, 0.69411765, 0.83137255],\n",
       "         [0.60392157, 0.68235294, 0.81960784]],\n",
       "\n",
       "        ...,\n",
       "\n",
       "        [[0.29019608, 0.32941176, 0.31372549],\n",
       "         [0.29803922, 0.33333333, 0.31764706],\n",
       "         [0.30588235, 0.33333333, 0.32156863],\n",
       "         ...,\n",
       "         [0.27843137, 0.29411765, 0.30588235],\n",
       "         [0.26666667, 0.28235294, 0.29411765],\n",
       "         [0.23921569, 0.25490196, 0.26666667]],\n",
       "\n",
       "        [[0.26666667, 0.29803922, 0.30196078],\n",
       "         [0.27058824, 0.30196078, 0.30588235],\n",
       "         [0.28235294, 0.30980392, 0.30588235],\n",
       "         ...,\n",
       "         [0.29803922, 0.31372549, 0.3254902 ],\n",
       "         [0.27843137, 0.29411765, 0.30588235],\n",
       "         [0.27843137, 0.29411765, 0.30588235]],\n",
       "\n",
       "        [[0.2627451 , 0.29411765, 0.30588235],\n",
       "         [0.26666667, 0.29803922, 0.30980392],\n",
       "         [0.27058824, 0.29411765, 0.29803922],\n",
       "         ...,\n",
       "         [0.29411765, 0.30980392, 0.32156863],\n",
       "         [0.27843137, 0.29411765, 0.30588235],\n",
       "         [0.28627451, 0.30196078, 0.31372549]]]])"
      ]
     },
     "execution_count": 12,
     "metadata": {},
     "output_type": "execute_result"
    }
   ],
   "source": [
    "X_train[:5]"
   ]
  },
  {
   "cell_type": "code",
   "execution_count": 13,
   "id": "391b5af2",
   "metadata": {
    "execution": {
     "iopub.execute_input": "2022-06-29T04:35:58.669283Z",
     "iopub.status.busy": "2022-06-29T04:35:58.668669Z",
     "iopub.status.idle": "2022-06-29T04:35:58.839370Z",
     "shell.execute_reply": "2022-06-29T04:35:58.836379Z"
    },
    "papermill": {
     "duration": 0.191193,
     "end_time": "2022-06-29T04:35:58.844458",
     "exception": false,
     "start_time": "2022-06-29T04:35:58.653265",
     "status": "completed"
    },
    "tags": []
   },
   "outputs": [
    {
     "name": "stderr",
     "output_type": "stream",
     "text": [
      "2022-06-29 04:35:58.722431: I tensorflow/core/common_runtime/process_util.cc:146] Creating new thread pool with default inter op setting: 2. Tune using inter_op_parallelism_threads for best performance.\n"
     ]
    }
   ],
   "source": [
    "cnn = models.Sequential([\n",
    "    layers.Conv2D(filters=32, kernel_size=(3, 3), activation='relu', input_shape=(32, 32, 3)),\n",
    "    layers.MaxPooling2D((2, 2)),\n",
    "    \n",
    "    layers.Conv2D(filters=64, kernel_size=(3, 3), activation='relu'),\n",
    "    layers.MaxPooling2D((2, 2)),\n",
    "    \n",
    "    layers.Flatten(),\n",
    "    layers.Dense(64, activation='relu'),\n",
    "    layers.Dense(10, activation='softmax')\n",
    "])"
   ]
  },
  {
   "cell_type": "code",
   "execution_count": 14,
   "id": "c4d84aef",
   "metadata": {
    "execution": {
     "iopub.execute_input": "2022-06-29T04:35:58.883278Z",
     "iopub.status.busy": "2022-06-29T04:35:58.882293Z",
     "iopub.status.idle": "2022-06-29T04:35:58.902365Z",
     "shell.execute_reply": "2022-06-29T04:35:58.900999Z"
    },
    "papermill": {
     "duration": 0.039325,
     "end_time": "2022-06-29T04:35:58.904976",
     "exception": false,
     "start_time": "2022-06-29T04:35:58.865651",
     "status": "completed"
    },
    "tags": []
   },
   "outputs": [],
   "source": [
    "cnn.compile(optimizer='adam',loss='sparse_categorical_crossentropy',metrics=['accuracy'])\n"
   ]
  },
  {
   "cell_type": "code",
   "execution_count": 15,
   "id": "5b50a586",
   "metadata": {
    "execution": {
     "iopub.execute_input": "2022-06-29T04:35:58.936686Z",
     "iopub.status.busy": "2022-06-29T04:35:58.935707Z",
     "iopub.status.idle": "2022-06-29T04:43:47.384609Z",
     "shell.execute_reply": "2022-06-29T04:43:47.383113Z"
    },
    "papermill": {
     "duration": 468.467781,
     "end_time": "2022-06-29T04:43:47.387444",
     "exception": false,
     "start_time": "2022-06-29T04:35:58.919663",
     "status": "completed"
    },
    "tags": []
   },
   "outputs": [
    {
     "name": "stderr",
     "output_type": "stream",
     "text": [
      "2022-06-29 04:36:00.265324: I tensorflow/compiler/mlir/mlir_graph_optimization_pass.cc:185] None of the MLIR Optimization Passes are enabled (registered 2)\n"
     ]
    },
    {
     "name": "stdout",
     "output_type": "stream",
     "text": [
      "Epoch 1/20\n",
      "1563/1563 [==============================] - 24s 15ms/step - loss: 1.4640 - accuracy: 0.4765\n",
      "Epoch 2/20\n",
      "1563/1563 [==============================] - 24s 15ms/step - loss: 1.1055 - accuracy: 0.6143\n",
      "Epoch 3/20\n",
      "1563/1563 [==============================] - 24s 15ms/step - loss: 0.9662 - accuracy: 0.6637\n",
      "Epoch 4/20\n",
      "1563/1563 [==============================] - 23s 15ms/step - loss: 0.8848 - accuracy: 0.6922\n",
      "Epoch 5/20\n",
      "1563/1563 [==============================] - 23s 15ms/step - loss: 0.8162 - accuracy: 0.7173\n",
      "Epoch 6/20\n",
      "1563/1563 [==============================] - 24s 15ms/step - loss: 0.7568 - accuracy: 0.7391\n",
      "Epoch 7/20\n",
      "1563/1563 [==============================] - 23s 15ms/step - loss: 0.7110 - accuracy: 0.7526\n",
      "Epoch 8/20\n",
      "1563/1563 [==============================] - 23s 15ms/step - loss: 0.6650 - accuracy: 0.7688\n",
      "Epoch 9/20\n",
      "1563/1563 [==============================] - 23s 15ms/step - loss: 0.6229 - accuracy: 0.7837\n",
      "Epoch 10/20\n",
      "1563/1563 [==============================] - 24s 15ms/step - loss: 0.5837 - accuracy: 0.7958\n",
      "Epoch 11/20\n",
      "1563/1563 [==============================] - 23s 15ms/step - loss: 0.5509 - accuracy: 0.8060\n",
      "Epoch 12/20\n",
      "1563/1563 [==============================] - 23s 15ms/step - loss: 0.5162 - accuracy: 0.8184\n",
      "Epoch 13/20\n",
      "1563/1563 [==============================] - 24s 15ms/step - loss: 0.4857 - accuracy: 0.8292\n",
      "Epoch 14/20\n",
      "1563/1563 [==============================] - 23s 15ms/step - loss: 0.4549 - accuracy: 0.8387\n",
      "Epoch 15/20\n",
      "1563/1563 [==============================] - 22s 14ms/step - loss: 0.4268 - accuracy: 0.8487\n",
      "Epoch 16/20\n",
      "1563/1563 [==============================] - 24s 15ms/step - loss: 0.4002 - accuracy: 0.8581\n",
      "Epoch 17/20\n",
      "1563/1563 [==============================] - 24s 15ms/step - loss: 0.3730 - accuracy: 0.8670\n",
      "Epoch 18/20\n",
      "1563/1563 [==============================] - 22s 14ms/step - loss: 0.3443 - accuracy: 0.8755\n",
      "Epoch 19/20\n",
      "1563/1563 [==============================] - 24s 15ms/step - loss: 0.3258 - accuracy: 0.8832\n",
      "Epoch 20/20\n",
      "1563/1563 [==============================] - 24s 15ms/step - loss: 0.3004 - accuracy: 0.8930\n"
     ]
    },
    {
     "data": {
      "text/plain": [
       "<keras.callbacks.History at 0x7f6083b0bc10>"
      ]
     },
     "execution_count": 15,
     "metadata": {},
     "output_type": "execute_result"
    }
   ],
   "source": [
    "cnn.fit(X_train,y_train,epochs=20)"
   ]
  },
  {
   "cell_type": "code",
   "execution_count": 16,
   "id": "21880e6a",
   "metadata": {
    "execution": {
     "iopub.execute_input": "2022-06-29T04:43:48.562184Z",
     "iopub.status.busy": "2022-06-29T04:43:48.561776Z",
     "iopub.status.idle": "2022-06-29T04:43:51.073593Z",
     "shell.execute_reply": "2022-06-29T04:43:51.072438Z"
    },
    "papermill": {
     "duration": 3.102802,
     "end_time": "2022-06-29T04:43:51.076201",
     "exception": false,
     "start_time": "2022-06-29T04:43:47.973399",
     "status": "completed"
    },
    "tags": []
   },
   "outputs": [
    {
     "name": "stdout",
     "output_type": "stream",
     "text": [
      "313/313 [==============================] - 2s 6ms/step - loss: 1.3202 - accuracy: 0.6903\n"
     ]
    },
    {
     "data": {
      "text/plain": [
       "[1.320162057876587, 0.6902999877929688]"
      ]
     },
     "execution_count": 16,
     "metadata": {},
     "output_type": "execute_result"
    }
   ],
   "source": [
    "cnn.evaluate(X_test,y_test)"
   ]
  },
  {
   "cell_type": "code",
   "execution_count": 17,
   "id": "10e425eb",
   "metadata": {
    "execution": {
     "iopub.execute_input": "2022-06-29T04:43:52.540528Z",
     "iopub.status.busy": "2022-06-29T04:43:52.537906Z",
     "iopub.status.idle": "2022-06-29T04:43:55.049534Z",
     "shell.execute_reply": "2022-06-29T04:43:55.048651Z"
    },
    "papermill": {
     "duration": 3.222636,
     "end_time": "2022-06-29T04:43:55.052273",
     "exception": false,
     "start_time": "2022-06-29T04:43:51.829637",
     "status": "completed"
    },
    "tags": []
   },
   "outputs": [
    {
     "data": {
      "text/plain": [
       "array([[1.97037098e-05, 6.00938588e-09, 1.57017839e-05, ...,\n",
       "        2.66477773e-09, 4.16662743e-07, 4.09144789e-08],\n",
       "       [2.37128859e-07, 3.83227646e-01, 9.04447212e-11, ...,\n",
       "        1.98221227e-14, 6.16771936e-01, 1.54611001e-07],\n",
       "       [1.53712026e-04, 6.39125407e-01, 4.77295544e-07, ...,\n",
       "        5.26634594e-08, 3.60648841e-01, 3.62304854e-05],\n",
       "       ...,\n",
       "       [4.01789213e-10, 2.80377968e-14, 8.87953211e-03, ...,\n",
       "        4.13472881e-05, 2.40805830e-11, 2.42805830e-13],\n",
       "       [4.95065236e-04, 6.63632682e-06, 1.12958536e-04, ...,\n",
       "        4.05388185e-08, 4.77424628e-11, 4.12639878e-09],\n",
       "       [5.64296738e-14, 1.19880755e-12, 8.55031379e-10, ...,\n",
       "        9.99999881e-01, 1.77294973e-12, 4.77539123e-16]], dtype=float32)"
      ]
     },
     "execution_count": 17,
     "metadata": {},
     "output_type": "execute_result"
    }
   ],
   "source": [
    "y_pred=cnn.predict(X_test)\n",
    "y_pred"
   ]
  },
  {
   "cell_type": "code",
   "execution_count": 18,
   "id": "8b64ed81",
   "metadata": {
    "execution": {
     "iopub.execute_input": "2022-06-29T04:43:56.592827Z",
     "iopub.status.busy": "2022-06-29T04:43:56.590926Z",
     "iopub.status.idle": "2022-06-29T04:43:56.634417Z",
     "shell.execute_reply": "2022-06-29T04:43:56.632011Z"
    },
    "papermill": {
     "duration": 0.899266,
     "end_time": "2022-06-29T04:43:56.638094",
     "exception": false,
     "start_time": "2022-06-29T04:43:55.738828",
     "status": "completed"
    },
    "tags": []
   },
   "outputs": [],
   "source": [
    "y_classes=[np.argmax(element) for element in y_pred]"
   ]
  },
  {
   "cell_type": "code",
   "execution_count": 19,
   "id": "06ec3041",
   "metadata": {
    "execution": {
     "iopub.execute_input": "2022-06-29T04:43:58.015188Z",
     "iopub.status.busy": "2022-06-29T04:43:58.013868Z",
     "iopub.status.idle": "2022-06-29T04:43:58.022920Z",
     "shell.execute_reply": "2022-06-29T04:43:58.021915Z"
    },
    "papermill": {
     "duration": 0.648833,
     "end_time": "2022-06-29T04:43:58.025156",
     "exception": false,
     "start_time": "2022-06-29T04:43:57.376323",
     "status": "completed"
    },
    "tags": []
   },
   "outputs": [
    {
     "data": {
      "text/plain": [
       "[3, 8, 1, 0, 6]"
      ]
     },
     "execution_count": 19,
     "metadata": {},
     "output_type": "execute_result"
    }
   ],
   "source": [
    "y_classes[:5]"
   ]
  },
  {
   "cell_type": "code",
   "execution_count": 20,
   "id": "a4e2795d",
   "metadata": {
    "execution": {
     "iopub.execute_input": "2022-06-29T04:43:59.346440Z",
     "iopub.status.busy": "2022-06-29T04:43:59.345577Z",
     "iopub.status.idle": "2022-06-29T04:43:59.352978Z",
     "shell.execute_reply": "2022-06-29T04:43:59.351866Z"
    },
    "papermill": {
     "duration": 0.677828,
     "end_time": "2022-06-29T04:43:59.355450",
     "exception": false,
     "start_time": "2022-06-29T04:43:58.677622",
     "status": "completed"
    },
    "tags": []
   },
   "outputs": [
    {
     "data": {
      "text/plain": [
       "array([3, 8, 8, 0, 6], dtype=uint8)"
      ]
     },
     "execution_count": 20,
     "metadata": {},
     "output_type": "execute_result"
    }
   ],
   "source": [
    "y_test[:5]"
   ]
  },
  {
   "cell_type": "code",
   "execution_count": 21,
   "id": "9796e0f2",
   "metadata": {
    "execution": {
     "iopub.execute_input": "2022-06-29T04:44:00.531205Z",
     "iopub.status.busy": "2022-06-29T04:44:00.530478Z",
     "iopub.status.idle": "2022-06-29T04:44:00.698605Z",
     "shell.execute_reply": "2022-06-29T04:44:00.697749Z"
    },
    "papermill": {
     "duration": 0.760821,
     "end_time": "2022-06-29T04:44:00.701170",
     "exception": false,
     "start_time": "2022-06-29T04:43:59.940349",
     "status": "completed"
    },
    "tags": []
   },
   "outputs": [
    {
     "data": {
      "image/png": "[encoded data removed]",
      "text/plain": [
       "<Figure size 1080x144 with 1 Axes>"
      ]
     },
     "metadata": {
      "needs_background": "light"
     },
     "output_type": "display_data"
    }
   ],
   "source": [
    "plot_sample(X_test,y_test,4)"
   ]
  },
  {
   "cell_type": "code",
   "execution_count": 22,
   "id": "b452fcca",
   "metadata": {
    "execution": {
     "iopub.execute_input": "2022-06-29T04:44:01.963521Z",
     "iopub.status.busy": "2022-06-29T04:44:01.962843Z",
     "iopub.status.idle": "2022-06-29T04:44:01.969490Z",
     "shell.execute_reply": "2022-06-29T04:44:01.968634Z"
    },
    "papermill": {
     "duration": 0.606765,
     "end_time": "2022-06-29T04:44:01.971469",
     "exception": false,
     "start_time": "2022-06-29T04:44:01.364704",
     "status": "completed"
    },
    "tags": []
   },
   "outputs": [
    {
     "data": {
      "text/plain": [
       "'frog'"
      ]
     },
     "execution_count": 22,
     "metadata": {},
     "output_type": "execute_result"
    }
   ],
   "source": [
    "classes[y_classes[4]]"
   ]
  },
  {
   "cell_type": "code",
   "execution_count": 23,
   "id": "2078f92a",
   "metadata": {
    "execution": {
     "iopub.execute_input": "2022-06-29T04:44:03.244397Z",
     "iopub.status.busy": "2022-06-29T04:44:03.243518Z",
     "iopub.status.idle": "2022-06-29T04:44:03.248609Z",
     "shell.execute_reply": "2022-06-29T04:44:03.247651Z"
    },
    "papermill": {
     "duration": 0.676825,
     "end_time": "2022-06-29T04:44:03.250990",
     "exception": false,
     "start_time": "2022-06-29T04:44:02.574165",
     "status": "completed"
    },
    "tags": []
   },
   "outputs": [],
   "source": [
    "#It seems that our model is well trained and giving correct result after train and test and predicting the correct result"
   ]
  },
  {
   "cell_type": "code",
   "execution_count": null,
   "id": "afc790ba",
   "metadata": {
    "papermill": {
     "duration": 0.616936,
     "end_time": "2022-06-29T04:44:04.473561",
     "exception": false,
     "start_time": "2022-06-29T04:44:03.856625",
     "status": "completed"
    },
    "tags": []
   },
   "outputs": [],
   "source": []
  }
 ],
 "metadata": {
  "kernelspec": {
   "display_name": "Python 3",
   "language": "python",
   "name": "python3"
  },
  "language_info": {
   "codemirror_mode": {
    "name": "ipython",
    "version": 3
   },
   "file_extension": ".py",
   "mimetype": "text/x-python",
   "name": "python",
   "nbconvert_exporter": "python",
   "pygments_lexer": "ipython3",
   "version": "3.7.12"
  },
  "papermill": {
   "default_parameters": {},
   "duration": 518.533798,
   "end_time": "2022-06-29T04:44:07.910448",
   "environment_variables": {},
   "exception": null,
   "input_path": "__notebook__.ipynb",
   "output_path": "__notebook__.ipynb",
   "parameters": {},
   "start_time": "2022-06-29T04:35:29.376650",
   "version": "2.3.4"
  }
 },
 "nbformat": 4,
 "nbformat_minor": 5
}
